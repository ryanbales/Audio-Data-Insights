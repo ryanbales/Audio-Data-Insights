{
 "cells": [
  {
   "cell_type": "markdown",
   "metadata": {},
   "source": [
    "# Keyword Extraction"
   ]
  },
  {
   "cell_type": "markdown",
   "metadata": {},
   "source": [
    "#### Ryan Bales (@ryanbales)<br>ryan@balesofdata.com"
   ]
  },
  {
   "cell_type": "markdown",
   "metadata": {},
   "source": [
    "***"
   ]
  },
  {
   "cell_type": "markdown",
   "metadata": {},
   "source": [
    "### Import Packages"
   ]
  },
  {
   "cell_type": "code",
   "execution_count": 33,
   "metadata": {},
   "outputs": [],
   "source": [
    "import gensim\n",
    "import json"
   ]
  },
  {
   "cell_type": "markdown",
   "metadata": {},
   "source": [
    "## Presidential Debate #1 - 9/26/2016"
   ]
  },
  {
   "cell_type": "markdown",
   "metadata": {},
   "source": [
    "### Let's Try Keyword Extraction"
   ]
  },
  {
   "cell_type": "code",
   "execution_count": 34,
   "metadata": {},
   "outputs": [],
   "source": [
    "trancription = None\n",
    "\n",
    "with open(\"data/2016_debates/transcripts/debate_1.mp3.json\", 'r') as transcript_file:  \n",
    "    transcription = json.load(transcript_file)"
   ]
  },
  {
   "cell_type": "code",
   "execution_count": 35,
   "metadata": {},
   "outputs": [],
   "source": [
    "text = transcription[\"results\"][\"transcripts\"][0][\"transcript\"]"
   ]
  },
  {
   "cell_type": "code",
   "execution_count": 36,
   "metadata": {},
   "outputs": [],
   "source": [
    "text = gensim.parsing.preprocessing.remove_stopwords(text)"
   ]
  },
  {
   "cell_type": "code",
   "execution_count": 37,
   "metadata": {},
   "outputs": [],
   "source": [
    "keywords = gensim.summarization.keywords(text, scores=True, lemmatize=True)"
   ]
  },
  {
   "cell_type": "markdown",
   "metadata": {},
   "source": [
    "### Display 20 Most used Keywords"
   ]
  },
  {
   "cell_type": "code",
   "execution_count": 38,
   "metadata": {},
   "outputs": [
    {
     "data": {
      "text/plain": [
       "[('countries', 0.22649039056983994),\n",
       " ('people', 0.21680055087487504),\n",
       " ('going', 0.20092370092840559),\n",
       " ('looks', 0.1699825977429381),\n",
       " ('knows', 0.1522741555208179),\n",
       " ('job', 0.14514996960363474),\n",
       " ('said', 0.14393063576942589),\n",
       " ('thing', 0.14247125342138767),\n",
       " ('lots', 0.14137908160905333),\n",
       " ('tax', 0.13008226063234826),\n",
       " ('wants', 0.12830796723039162),\n",
       " ('year', 0.12603475508126843),\n",
       " ('americans', 0.12436665739883322),\n",
       " ('thinks', 0.1237352671924923),\n",
       " ('needed', 0.12114532193385986),\n",
       " ('donald', 0.10401442215029828),\n",
       " ('businesses', 0.10359061201962971),\n",
       " ('working', 0.10323424881008561),\n",
       " ('coming', 0.10216088258926433),\n",
       " ('talk', 0.09177678464733212)]"
      ]
     },
     "execution_count": 38,
     "metadata": {},
     "output_type": "execute_result"
    }
   ],
   "source": [
    "keywords[:20]"
   ]
  },
  {
   "cell_type": "markdown",
   "metadata": {},
   "source": [
    "### 20 Least Common Words"
   ]
  },
  {
   "cell_type": "code",
   "execution_count": 39,
   "metadata": {},
   "outputs": [
    {
     "data": {
      "text/plain": [
       "[('hoping', 0.020299148073843993),\n",
       " ('murder', 0.020220935518083114),\n",
       " ('probably', 0.02020987190339046),\n",
       " ('advantages', 0.019970056890677136),\n",
       " ('sitting', 0.019964166585403717),\n",
       " ('careful', 0.01992932412020064),\n",
       " ('foreign', 0.0199181106312656),\n",
       " ('stamina', 0.019838058809867463),\n",
       " ('cutting', 0.019833851803136585),\n",
       " ('audience', 0.019762510622670554),\n",
       " ('examples', 0.019702445429989415),\n",
       " ('refuses', 0.019670595162383016),\n",
       " ('spent', 0.019582173746216378),\n",
       " ('files', 0.019552986035448472),\n",
       " ('absolutely', 0.019493555340023182),\n",
       " ('treaties', 0.01948892519586005),\n",
       " ('terrible', 0.019483134555281122),\n",
       " ('sent', 0.01948098972965944),\n",
       " ('seen', 0.01947769541993565),\n",
       " ('private', 0.019475046630242628)]"
      ]
     },
     "execution_count": 39,
     "metadata": {},
     "output_type": "execute_result"
    }
   ],
   "source": [
    "keywords[-20:]"
   ]
  },
  {
   "cell_type": "markdown",
   "metadata": {},
   "source": [
    "***"
   ]
  },
  {
   "cell_type": "markdown",
   "metadata": {},
   "source": [
    "## Vice-Presidential Debate - 10/04/2016"
   ]
  },
  {
   "cell_type": "markdown",
   "metadata": {},
   "source": [
    "### Let's Try Keyword Extraction"
   ]
  },
  {
   "cell_type": "code",
   "execution_count": 40,
   "metadata": {},
   "outputs": [],
   "source": [
    "trancription = None\n",
    "\n",
    "with open(\"data/2016_debates/transcripts/vp_debate.mp3.json\", 'r') as transcript_file:  \n",
    "    transcription = json.load(transcript_file)"
   ]
  },
  {
   "cell_type": "code",
   "execution_count": 41,
   "metadata": {},
   "outputs": [],
   "source": [
    "text = transcription[\"results\"][\"transcripts\"][0][\"transcript\"]"
   ]
  },
  {
   "cell_type": "code",
   "execution_count": 42,
   "metadata": {},
   "outputs": [],
   "source": [
    "text = gensim.parsing.preprocessing.remove_stopwords(text)"
   ]
  },
  {
   "cell_type": "code",
   "execution_count": 43,
   "metadata": {},
   "outputs": [],
   "source": [
    "keywords = gensim.summarization.keywords(text, scores=True, lemmatize=True)"
   ]
  },
  {
   "cell_type": "markdown",
   "metadata": {},
   "source": [
    "### Display 20 Most used Keywords"
   ]
  },
  {
   "cell_type": "code",
   "execution_count": 44,
   "metadata": {},
   "outputs": [
    {
     "data": {
      "text/plain": [
       "[('americans', 0.17840093043627553),\n",
       " ('senators', 0.1758007939970047),\n",
       " ('said', 0.16993541962908165),\n",
       " ('work', 0.1690951386938495),\n",
       " ('people', 0.16249727087878363),\n",
       " ('trump', 0.16222773781270794),\n",
       " ('donald', 0.14944278377618034),\n",
       " ('hillary', 0.13966257155091927),\n",
       " ('tax', 0.13960041767225898),\n",
       " ('world', 0.12996169731030277),\n",
       " ('stating', 0.12839693833515253),\n",
       " ('clintons', 0.12813205291331284),\n",
       " ('going', 0.12563091270222812),\n",
       " ('ways', 0.12403115205174177),\n",
       " ('likes', 0.11856898807557502),\n",
       " ('wanting', 0.11424347728723641),\n",
       " ('governors', 0.11209451499187131),\n",
       " ('nationally', 0.11037683851161831),\n",
       " ('countries', 0.102790058756548),\n",
       " ('russia', 0.10214658081125585)]"
      ]
     },
     "execution_count": 44,
     "metadata": {},
     "output_type": "execute_result"
    }
   ],
   "source": [
    "keywords[:20]"
   ]
  },
  {
   "cell_type": "markdown",
   "metadata": {},
   "source": [
    "### 20 Least Common Words"
   ]
  },
  {
   "cell_type": "code",
   "execution_count": 45,
   "metadata": {},
   "outputs": [
    {
     "data": {
      "text/plain": [
       "[('exactly', 0.019420541441455958),\n",
       " ('fair', 0.01939735214695278),\n",
       " ('bin', 0.019364992548366936),\n",
       " ('refugees', 0.019338710232282223),\n",
       " ('prepared', 0.019298422578467266),\n",
       " ('return', 0.019263982781760766),\n",
       " ('handed', 0.01924326997067394),\n",
       " ('south', 0.019183079097718374),\n",
       " ('general', 0.019139911431432316),\n",
       " ('committees', 0.01904189657316503),\n",
       " ('chicago', 0.019024190063910075),\n",
       " ('ability', 0.019022662047059293),\n",
       " ('violence', 0.01899476167793555),\n",
       " ('international', 0.018831367713725924),\n",
       " ('freedoms', 0.018802315488915155),\n",
       " ('religion', 0.01880072347630885),\n",
       " ('educated', 0.018782849446205143),\n",
       " ('safety', 0.018667377247233892),\n",
       " ('young', 0.018636406472046757),\n",
       " ('specific', 0.018599488381307195)]"
      ]
     },
     "execution_count": 45,
     "metadata": {},
     "output_type": "execute_result"
    }
   ],
   "source": [
    "keywords[-20:]"
   ]
  },
  {
   "cell_type": "markdown",
   "metadata": {},
   "source": [
    "## Presidential Debate #2 - 10/09/2016"
   ]
  },
  {
   "cell_type": "markdown",
   "metadata": {},
   "source": [
    "### Let's Try Keyword Extraction"
   ]
  },
  {
   "cell_type": "code",
   "execution_count": 46,
   "metadata": {},
   "outputs": [],
   "source": [
    "trancription = None\n",
    "\n",
    "with open(\"data/2016_debates/transcripts/debate_2.mp3.json\", 'r') as transcript_file:  \n",
    "    transcription = json.load(transcript_file)"
   ]
  },
  {
   "cell_type": "code",
   "execution_count": 47,
   "metadata": {},
   "outputs": [],
   "source": [
    "text = transcription[\"results\"][\"transcripts\"][0][\"transcript\"]"
   ]
  },
  {
   "cell_type": "code",
   "execution_count": 48,
   "metadata": {},
   "outputs": [],
   "source": [
    "text = gensim.parsing.preprocessing.remove_stopwords(text)"
   ]
  },
  {
   "cell_type": "code",
   "execution_count": 49,
   "metadata": {},
   "outputs": [],
   "source": [
    "keywords = gensim.summarization.keywords(text, scores=True, lemmatize=True)"
   ]
  },
  {
   "cell_type": "markdown",
   "metadata": {},
   "source": [
    "### Display 20 Most used Keywords"
   ]
  },
  {
   "cell_type": "code",
   "execution_count": 50,
   "metadata": {},
   "outputs": [
    {
     "data": {
      "text/plain": [
       "[('countries', 0.19461058937353773),\n",
       " ('said', 0.1758278054088423),\n",
       " ('wanted', 0.17574051053288312),\n",
       " ('people room', 0.171004812436703),\n",
       " ('going', 0.15507989205464373),\n",
       " ('questioning', 0.14773311106610856),\n",
       " ('lot', 0.1405314192658694),\n",
       " ('taxes', 0.13964853227816304),\n",
       " ('looks', 0.13962314972148884),\n",
       " ('knows', 0.13567788288462979),\n",
       " ('thing', 0.12574043196219956),\n",
       " ('american', 0.12532197936187178),\n",
       " ('talks', 0.12346596970237145),\n",
       " ('like', 0.11978706145914661),\n",
       " ('donald', 0.11938289081374878),\n",
       " ('thinkings', 0.11856221838383703),\n",
       " ('times', 0.11470751138973369),\n",
       " ('way', 0.11033263718581553),\n",
       " ('presidents', 0.10926915028428948),\n",
       " ('workings', 0.10319073218714528)]"
      ]
     },
     "execution_count": 50,
     "metadata": {},
     "output_type": "execute_result"
    }
   ],
   "source": [
    "keywords[:20]"
   ]
  },
  {
   "cell_type": "markdown",
   "metadata": {},
   "source": [
    "### 20 Least Common Words"
   ]
  },
  {
   "cell_type": "code",
   "execution_count": 51,
   "metadata": {},
   "outputs": [
    {
     "data": {
      "text/plain": [
       "[('probably', 0.020323490112989968),\n",
       " ('frankly', 0.020274167459310988),\n",
       " ('video', 0.020264899476008597),\n",
       " ('known', 0.020100773593336844),\n",
       " ('lie', 0.020043105776087672),\n",
       " ('sanders', 0.020009904770624014),\n",
       " ('judgments', 0.01996446264726327),\n",
       " ('fighter', 0.019926324926579187),\n",
       " ('federal', 0.01991240125761826),\n",
       " ('george', 0.01983399573207161),\n",
       " ('representatives', 0.019808570186303717),\n",
       " ('girl', 0.019785343593244253),\n",
       " ('away', 0.019778210211625923),\n",
       " ('yes', 0.019764790223852968),\n",
       " ('later', 0.01975231520963611),\n",
       " ('long', 0.019708225760048857),\n",
       " ('giving', 0.019697334209763856),\n",
       " ('situation', 0.019602028044418143),\n",
       " ('wrong', 0.019529181792787446),\n",
       " ('horribly', 0.019498267680010575)]"
      ]
     },
     "execution_count": 51,
     "metadata": {},
     "output_type": "execute_result"
    }
   ],
   "source": [
    "keywords[-20:]"
   ]
  },
  {
   "cell_type": "markdown",
   "metadata": {},
   "source": [
    "## Presidential Debate #3 - 10/19/2016"
   ]
  },
  {
   "cell_type": "markdown",
   "metadata": {},
   "source": [
    "### Let's Try Keyword Extraction"
   ]
  },
  {
   "cell_type": "code",
   "execution_count": 52,
   "metadata": {},
   "outputs": [],
   "source": [
    "trancription = None\n",
    "\n",
    "with open(\"data/2016_debates/transcripts/debate_3.mp3.json\", 'r') as transcript_file:  \n",
    "    transcription = json.load(transcript_file)"
   ]
  },
  {
   "cell_type": "code",
   "execution_count": 53,
   "metadata": {},
   "outputs": [],
   "source": [
    "text = transcription[\"results\"][\"transcripts\"][0][\"transcript\"]"
   ]
  },
  {
   "cell_type": "code",
   "execution_count": 54,
   "metadata": {},
   "outputs": [],
   "source": [
    "text = gensim.parsing.preprocessing.remove_stopwords(text)"
   ]
  },
  {
   "cell_type": "code",
   "execution_count": 55,
   "metadata": {},
   "outputs": [],
   "source": [
    "keywords = gensim.summarization.keywords(text, scores=True, lemmatize=True)"
   ]
  },
  {
   "cell_type": "markdown",
   "metadata": {},
   "source": [
    "### Display 20 Most used Keywords"
   ]
  },
  {
   "cell_type": "code",
   "execution_count": 56,
   "metadata": {},
   "outputs": [
    {
     "data": {
      "text/plain": [
       "[('people', 0.28755539104047756),\n",
       " ('going', 0.2473948103863686),\n",
       " ('wants', 0.2029684372707676),\n",
       " ('said', 0.16129475267188928),\n",
       " ('countries governments', 0.1553782498981741),\n",
       " ('ways', 0.1544337299264401),\n",
       " ('knows', 0.13391495251959282),\n",
       " ('thinks', 0.1200716202358479),\n",
       " ('years', 0.10914913193105513),\n",
       " ('rights', 0.10740010789275665),\n",
       " ('american', 0.10124485672368116),\n",
       " ('women', 0.09589235277842278),\n",
       " ('secretary', 0.0929084420915166),\n",
       " ('run presidency', 0.09069464827148885),\n",
       " ('planning', 0.09015210811710714),\n",
       " ('comes', 0.0898833875021988),\n",
       " ('looked', 0.08970398033456099),\n",
       " ('says', 0.0884254954912057),\n",
       " ('talks', 0.08614220600957477),\n",
       " ('world', 0.0852287517573236)]"
      ]
     },
     "execution_count": 56,
     "metadata": {},
     "output_type": "execute_result"
    }
   ],
   "source": [
    "keywords[:20]"
   ]
  },
  {
   "cell_type": "markdown",
   "metadata": {},
   "source": [
    "### 20 Least Common Words"
   ]
  },
  {
   "cell_type": "code",
   "execution_count": 57,
   "metadata": {},
   "outputs": [
    {
     "data": {
      "text/plain": [
       "[('allies', 0.02021120647836588),\n",
       " ('trusted', 0.020136039727171942),\n",
       " ('trillion', 0.02011107727555157),\n",
       " ('ground', 0.020048889463160222),\n",
       " ('small', 0.020042549475766693),\n",
       " ('dangerous', 0.02001930270734417),\n",
       " ('rallies', 0.019988215013787645),\n",
       " ('zones', 0.01993240037967981),\n",
       " ('turned', 0.01990244780874338),\n",
       " ('corporations', 0.019855404891141088),\n",
       " ('best', 0.019739520572753758),\n",
       " ('weapons', 0.01970153074955537),\n",
       " ('entitlement', 0.019687922016169722),\n",
       " ('chances', 0.01967782408759127),\n",
       " ('wikileaks', 0.019576497181996385),\n",
       " ('buy', 0.01942967630384157),\n",
       " ('frankly', 0.019394890916030545),\n",
       " ('teo', 0.019387964809235946),\n",
       " ('behalf', 0.0193644236315968),\n",
       " ('watching', 0.01932144696947434)]"
      ]
     },
     "execution_count": 57,
     "metadata": {},
     "output_type": "execute_result"
    }
   ],
   "source": [
    "keywords[-20:]"
   ]
  },
  {
   "cell_type": "code",
   "execution_count": null,
   "metadata": {},
   "outputs": [],
   "source": []
  }
 ],
 "metadata": {
  "kernelspec": {
   "display_name": "Python 3",
   "language": "python",
   "name": "python3"
  },
  "language_info": {
   "codemirror_mode": {
    "name": "ipython",
    "version": 3
   },
   "file_extension": ".py",
   "mimetype": "text/x-python",
   "name": "python",
   "nbconvert_exporter": "python",
   "pygments_lexer": "ipython3",
   "version": "3.6.15"
  }
 },
 "nbformat": 4,
 "nbformat_minor": 4
}
