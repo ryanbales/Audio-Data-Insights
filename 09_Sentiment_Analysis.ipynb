{
 "cells": [
  {
   "cell_type": "markdown",
   "metadata": {},
   "source": [
    "# Sentiment Analysis"
   ]
  },
  {
   "cell_type": "markdown",
   "metadata": {},
   "source": [
    "#### Ryan Bales (@ryanbales)<br>ryan@balesofdata.com"
   ]
  },
  {
   "cell_type": "markdown",
   "metadata": {},
   "source": [
    "***"
   ]
  },
  {
   "cell_type": "markdown",
   "metadata": {},
   "source": [
    "### Import Packages"
   ]
  },
  {
   "cell_type": "code",
   "execution_count": 1,
   "metadata": {},
   "outputs": [],
   "source": [
    "import boto3\n",
    "import json"
   ]
  },
  {
   "cell_type": "markdown",
   "metadata": {},
   "source": [
    "### Setup NLTK"
   ]
  },
  {
   "cell_type": "markdown",
   "metadata": {},
   "source": [
    "We're using the Vader Algorithm from NLTK (Natural Language Toolkit) to analyze the sentiment of every sentence in our corpus. <br/>\n",
    "The Vader Algorithm is a rules-based sentinment analysis alogrithm.  More details:  http://comp.social.gatech.edu/papers/icwsm14.vader.hutto.pdf"
   ]
  },
  {
   "cell_type": "code",
   "execution_count": 2,
   "metadata": {},
   "outputs": [
    {
     "name": "stderr",
     "output_type": "stream",
     "text": [
      "[nltk_data] Downloading package punkt to /Users/rbales/nltk_data...\n",
      "[nltk_data]   Package punkt is already up-to-date!\n",
      "[nltk_data] Downloading package vader_lexicon to\n",
      "[nltk_data]     /Users/rbales/nltk_data...\n",
      "[nltk_data]   Package vader_lexicon is already up-to-date!\n"
     ]
    },
    {
     "data": {
      "text/plain": [
       "True"
      ]
     },
     "execution_count": 2,
     "metadata": {},
     "output_type": "execute_result"
    }
   ],
   "source": [
    "import nltk\n",
    "from nltk.sentiment.vader import SentimentIntensityAnalyzer\n",
    "from nltk import tokenize\n",
    "\n",
    "nltk.download('punkt')\n",
    "nltk.download('vader_lexicon')"
   ]
  },
  {
   "cell_type": "markdown",
   "metadata": {},
   "source": [
    "### Load Transcription"
   ]
  },
  {
   "cell_type": "code",
   "execution_count": 3,
   "metadata": {},
   "outputs": [],
   "source": [
    "with open(\"data/2016_debates/transcripts/debate_1.mp3.json\", 'r') as transcript_file:  \n",
    "    transcription = json.load(transcript_file)\n",
    "    text = transcription[\"results\"][\"transcripts\"][0][\"transcript\"]"
   ]
  },
  {
   "cell_type": "markdown",
   "metadata": {},
   "source": [
    "### Tokenize Sentences"
   ]
  },
  {
   "cell_type": "code",
   "execution_count": 4,
   "metadata": {},
   "outputs": [],
   "source": [
    "sentences = tokenize.sent_tokenize(text)"
   ]
  },
  {
   "cell_type": "markdown",
   "metadata": {},
   "source": [
    "### Analyze the Sentiment of each Sentences"
   ]
  },
  {
   "cell_type": "code",
   "execution_count": 5,
   "metadata": {},
   "outputs": [],
   "source": [
    "sentinment_analyzer = SentimentIntensityAnalyzer()\n",
    "\n",
    "sentence_scores = {\n",
    "    \"pos\": 0.000,\n",
    "    \"neu\": 0.000,\n",
    "    \"neg\": 0.000\n",
    "}\n",
    "\n",
    "for sentence in sentences:\n",
    "    sentiment_score = sentinment_analyzer.polarity_scores(text)\n",
    "    for score_type in sorted(sentiment_score):\n",
    "        if score_type != \"compound\":\n",
    "            sentence_scores[score_type] += sentiment_score[score_type]"
   ]
  },
  {
   "cell_type": "markdown",
   "metadata": {},
   "source": [
    "### Display Sentiment Results"
   ]
  },
  {
   "cell_type": "code",
   "execution_count": 6,
   "metadata": {},
   "outputs": [
    {
     "name": "stdout",
     "output_type": "stream",
     "text": [
      "Sentence Count: 1181\n",
      "\n",
      "\n",
      "Average Sentinment Scores\n",
      "Positive 0.13300000000000042\n",
      "Neutral 0.769000000000005\n",
      "Negative 0.09799999999999917\n"
     ]
    }
   ],
   "source": [
    "print(\"Sentence Count: {}\".format(len(sentences)))\n",
    "print(\"\\n\")\n",
    "print(\"Average Sentinment Scores\")\n",
    "print(\"Positive {}\".format(sentence_scores[\"pos\"]/len(sentences)))\n",
    "print(\"Neutral {}\".format(sentence_scores[\"neu\"]/len(sentences)))\n",
    "print(\"Negative {}\".format(sentence_scores[\"neg\"]/len(sentences)))"
   ]
  },
  {
   "cell_type": "markdown",
   "metadata": {},
   "source": [
    "***"
   ]
  },
  {
   "cell_type": "markdown",
   "metadata": {},
   "source": [
    "### Let's Try AWS Comprehend (Max 5k bytes)"
   ]
  },
  {
   "cell_type": "code",
   "execution_count": 7,
   "metadata": {},
   "outputs": [],
   "source": [
    "with open(\"data/2016_debates/transcripts/debate_1.mp3.json\", 'r') as transcript_file:  \n",
    "    transcription = json.load(transcript_file)\n",
    "    text = transcription[\"results\"][\"transcripts\"][0][\"transcript\"]"
   ]
  },
  {
   "cell_type": "code",
   "execution_count": 8,
   "metadata": {},
   "outputs": [],
   "source": [
    "boto3.setup_default_session(region_name=\"us-east-1\", profile_name=\"personal\")\n",
    "comprehend_client = boto3.client(service_name=\"comprehend\")"
   ]
  },
  {
   "cell_type": "markdown",
   "metadata": {},
   "source": [
    "### Let's check the Sentiment at the Start of the Debate"
   ]
  },
  {
   "cell_type": "code",
   "execution_count": 9,
   "metadata": {},
   "outputs": [
    {
     "data": {
      "text/plain": [
       "{'Sentiment': 'NEUTRAL',\n",
       " 'SentimentScore': {'Positive': 0.18922650814056396,\n",
       "  'Negative': 0.021369684487581253,\n",
       "  'Neutral': 0.75711989402771,\n",
       "  'Mixed': 0.032283976674079895},\n",
       " 'ResponseMetadata': {'RequestId': 'cc387434-1231-11e9-8d7f-41e58abee49e',\n",
       "  'HTTPStatusCode': 200,\n",
       "  'HTTPHeaders': {'date': 'Mon, 07 Jan 2019 04:07:50 GMT',\n",
       "   'content-type': 'application/x-amz-json-1.1',\n",
       "   'content-length': '161',\n",
       "   'connection': 'keep-alive',\n",
       "   'x-amzn-requestid': 'cc387434-1231-11e9-8d7f-41e58abee49e'},\n",
       "  'RetryAttempts': 0}}"
      ]
     },
     "execution_count": 9,
     "metadata": {},
     "output_type": "execute_result"
    }
   ],
   "source": [
    "comprehend_client.detect_sentiment(Text=text[:5000], LanguageCode=\"en\")"
   ]
  },
  {
   "cell_type": "markdown",
   "metadata": {},
   "source": [
    "### What's the Sentiment at the End of the Debate"
   ]
  },
  {
   "cell_type": "code",
   "execution_count": 10,
   "metadata": {},
   "outputs": [
    {
     "data": {
      "text/plain": [
       "{'Sentiment': 'NEGATIVE',\n",
       " 'SentimentScore': {'Positive': 0.18204408884048462,\n",
       "  'Negative': 0.46523579955101013,\n",
       "  'Neutral': 0.2150057703256607,\n",
       "  'Mixed': 0.13771434128284454},\n",
       " 'ResponseMetadata': {'RequestId': 'cc5f36a4-1231-11e9-9473-7393b998d8f1',\n",
       "  'HTTPStatusCode': 200,\n",
       "  'HTTPHeaders': {'date': 'Mon, 07 Jan 2019 04:07:50 GMT',\n",
       "   'content-type': 'application/x-amz-json-1.1',\n",
       "   'content-length': '162',\n",
       "   'connection': 'keep-alive',\n",
       "   'x-amzn-requestid': 'cc5f36a4-1231-11e9-9473-7393b998d8f1'},\n",
       "  'RetryAttempts': 0}}"
      ]
     },
     "execution_count": 10,
     "metadata": {},
     "output_type": "execute_result"
    }
   ],
   "source": [
    "comprehend_client.detect_sentiment(Text=text[-5000:], LanguageCode=\"en\")"
   ]
  },
  {
   "cell_type": "code",
   "execution_count": null,
   "metadata": {},
   "outputs": [],
   "source": []
  }
 ],
 "metadata": {
  "kernelspec": {
   "display_name": "Python 3",
   "language": "python",
   "name": "python3"
  },
  "language_info": {
   "codemirror_mode": {
    "name": "ipython",
    "version": 3
   },
   "file_extension": ".py",
   "mimetype": "text/x-python",
   "name": "python",
   "nbconvert_exporter": "python",
   "pygments_lexer": "ipython3",
   "version": "3.6.15"
  }
 },
 "nbformat": 4,
 "nbformat_minor": 4
}
