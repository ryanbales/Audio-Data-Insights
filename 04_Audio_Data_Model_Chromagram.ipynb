{
 "cells": [
  {
   "cell_type": "markdown",
   "metadata": {},
   "source": [
    "# Building an Audio Data Model using Chormagram Features"
   ]
  },
  {
   "cell_type": "markdown",
   "metadata": {},
   "source": [
    "#### Ryan Bales (@ryanbales)<br>ryan@balesofdata.com"
   ]
  },
  {
   "cell_type": "markdown",
   "metadata": {},
   "source": [
    "***"
   ]
  },
  {
   "cell_type": "markdown",
   "metadata": {},
   "source": [
    "### Import Packages"
   ]
  },
  {
   "cell_type": "code",
   "execution_count": 1,
   "metadata": {},
   "outputs": [
    {
     "name": "stderr",
     "output_type": "stream",
     "text": [
      "Using TensorFlow backend.\n"
     ]
    }
   ],
   "source": [
    "import librosa\n",
    "import librosa.display\n",
    "import matplotlib.pyplot as plt\n",
    "import numpy as np\n",
    "import pandas as pd\n",
    "import os\n",
    "import keras\n",
    "from keras.models import Sequential\n",
    "from keras.layers import Dense, Dropout, Flatten\n",
    "from keras.layers import BatchNormalization\n",
    "from keras.layers import LSTM"
   ]
  },
  {
   "cell_type": "markdown",
   "metadata": {},
   "source": [
    "#### Define Constants"
   ]
  },
  {
   "cell_type": "code",
   "execution_count": 2,
   "metadata": {},
   "outputs": [],
   "source": [
    "max_feature_length = 128\n",
    "\n",
    "train_data_path = \"data/audio_train/train/\"\n",
    "val_data_path = \"data/audio_train/validation/\"\n",
    "\n",
    "model_output_path = \"models/chroma/\""
   ]
  },
  {
   "cell_type": "markdown",
   "metadata": {},
   "source": [
    "### Feature Extraction"
   ]
  },
  {
   "cell_type": "markdown",
   "metadata": {},
   "source": [
    "#### Let's take a look at the Librosa Python Library"
   ]
  },
  {
   "cell_type": "code",
   "execution_count": 3,
   "metadata": {},
   "outputs": [],
   "source": [
    "raw_audio, sample_rate = librosa.load(\"{}Applause/170eeda2.wav\".format(train_data_path), sr=None)"
   ]
  },
  {
   "cell_type": "code",
   "execution_count": 4,
   "metadata": {},
   "outputs": [
    {
     "data": {
      "text/plain": [
       "array([ 3.0517578e-05,  3.0517578e-05,  3.0517578e-05, ...,\n",
       "       -6.1035156e-05,  6.1035156e-05, -3.0517578e-05], dtype=float32)"
      ]
     },
     "execution_count": 4,
     "metadata": {},
     "output_type": "execute_result"
    }
   ],
   "source": [
    "raw_audio"
   ]
  },
  {
   "cell_type": "code",
   "execution_count": 5,
   "metadata": {},
   "outputs": [
    {
     "data": {
      "text/plain": [
       "(312228,)"
      ]
     },
     "execution_count": 5,
     "metadata": {},
     "output_type": "execute_result"
    }
   ],
   "source": [
    "raw_audio.shape"
   ]
  },
  {
   "cell_type": "code",
   "execution_count": 6,
   "metadata": {},
   "outputs": [
    {
     "data": {
      "text/plain": [
       "44100"
      ]
     },
     "execution_count": 6,
     "metadata": {},
     "output_type": "execute_result"
    }
   ],
   "source": [
    "sample_rate"
   ]
  },
  {
   "cell_type": "markdown",
   "metadata": {},
   "source": [
    "#### Visualize the RAW Audio"
   ]
  },
  {
   "cell_type": "code",
   "execution_count": 7,
   "metadata": {},
   "outputs": [
    {
     "data": {
      "text/plain": [
       "Text(0.5, 1.0, 'RAW Audio')"
      ]
     },
     "execution_count": 7,
     "metadata": {},
     "output_type": "execute_result"
    },
    {
     "data": {
      "image/png": "[encoded data removed]",
      "text/plain": [
       "<Figure size 720x288 with 1 Axes>"
      ]
     },
     "metadata": {
      "needs_background": "light"
     },
     "output_type": "display_data"
    }
   ],
   "source": [
    "plt.figure(figsize=(10, 4))\n",
    "librosa.display.waveplot(raw_audio, sr=sample_rate)\n",
    "plt.title('RAW Audio')"
   ]
  },
  {
   "cell_type": "markdown",
   "metadata": {},
   "source": [
    "#### Extract the Chromagram using Librosa"
   ]
  },
  {
   "cell_type": "code",
   "execution_count": 8,
   "metadata": {},
   "outputs": [],
   "source": [
    "chroma = librosa.feature.chroma_stft(y=raw_audio, sr=sample_rate)"
   ]
  },
  {
   "cell_type": "code",
   "execution_count": 9,
   "metadata": {},
   "outputs": [
    {
     "data": {
      "text/plain": [
       "array([[0.45708603, 0.59985061, 0.85535656, ..., 0.53766656, 1.        ,\n",
       "        0.78869527],\n",
       "       [0.75006506, 0.74879897, 0.63880852, ..., 0.35619509, 0.80814518,\n",
       "        0.90725799],\n",
       "       [1.        , 0.88681515, 0.61255202, ..., 0.44212162, 0.73436712,\n",
       "        0.97452743],\n",
       "       ...,\n",
       "       [0.76023411, 0.83820057, 0.8286142 , ..., 0.42432648, 0.98814941,\n",
       "        0.9980946 ],\n",
       "       [0.52218087, 0.59695499, 0.94210506, ..., 0.61444451, 0.90883874,\n",
       "        1.        ],\n",
       "       [0.55180056, 0.58229351, 0.95294395, ..., 1.        , 0.88406898,\n",
       "        0.86646533]])"
      ]
     },
     "execution_count": 9,
     "metadata": {},
     "output_type": "execute_result"
    }
   ],
   "source": [
    "chroma"
   ]
  },
  {
   "cell_type": "code",
   "execution_count": 10,
   "metadata": {},
   "outputs": [
    {
     "data": {
      "text/plain": [
       "(12, 610)"
      ]
     },
     "execution_count": 10,
     "metadata": {},
     "output_type": "execute_result"
    }
   ],
   "source": [
    "chroma.shape"
   ]
  },
  {
   "cell_type": "markdown",
   "metadata": {},
   "source": [
    "#### Visualize the Chromagam"
   ]
  },
  {
   "cell_type": "code",
   "execution_count": 11,
   "metadata": {},
   "outputs": [
    {
     "data": {
      "image/png": "[encoded data removed]",
      "text/plain": [
       "<Figure size 720x288 with 2 Axes>"
      ]
     },
     "metadata": {
      "needs_background": "light"
     },
     "output_type": "display_data"
    }
   ],
   "source": [
    "plt.figure(figsize=(10, 4))\n",
    "librosa.display.specshow(chroma, x_axis='time')\n",
    "plt.colorbar()\n",
    "plt.title('Chromagam')\n",
    "plt.tight_layout()"
   ]
  },
  {
   "cell_type": "markdown",
   "metadata": {},
   "source": [
    "####  Define a Method to Extact the Chromagram from an Audio File"
   ]
  },
  {
   "cell_type": "code",
   "execution_count": 12,
   "metadata": {},
   "outputs": [],
   "source": [
    "def get_chroma(wav_file, max_length = 128):\n",
    "    raw_audio, sample_rate = librosa.load(wav_file, sr=None, duration=1)\n",
    "    chroma = librosa.feature.chroma_stft(y=raw_audio, sr=sample_rate)\n",
    "    \n",
    "    # Truncate the Chroma to max_length\n",
    "    if (max_length > chroma.shape[1]):\n",
    "        pad_width = max_length - chroma.shape[1]\n",
    "        chroma = np.pad(chroma, pad_width=((0, 0), (0, pad_width)), mode='constant')\n",
    "    else:\n",
    "        chroma = chroma[:, :max_length]\n",
    "        \n",
    "    return chroma"
   ]
  },
  {
   "cell_type": "markdown",
   "metadata": {},
   "source": [
    "#### Process all Files and Extract Features"
   ]
  },
  {
   "cell_type": "code",
   "execution_count": 13,
   "metadata": {},
   "outputs": [
    {
     "name": "stderr",
     "output_type": "stream",
     "text": [
      "/Users/rbales/.virtualenvs/audio-data-insights/lib/python3.6/site-packages/librosa/core/pitch.py:145: UserWarning: Trying to estimate tuning from empty frequency set.\n",
      "  warnings.warn('Trying to estimate tuning from empty frequency set.')\n"
     ]
    }
   ],
   "source": [
    "chroma_list = []\n",
    "category_list = []\n",
    "\n",
    "for root, subdirs, files in os.walk(train_data_path):\n",
    "    subdirs.sort()\n",
    "    for subdir in subdirs:\n",
    "        for file_name in os.listdir(os.path.join(root, subdir)):\n",
    "            if file_name.endswith(\".wav\"):\n",
    "                chroma = get_chroma(os.path.join(root, subdir, file_name), max_feature_length)\n",
    "                chroma_list.append(chroma)\n",
    "                category_list.append(subdir)"
   ]
  },
  {
   "cell_type": "code",
   "execution_count": 14,
   "metadata": {},
   "outputs": [],
   "source": [
    "X_features = np.array(chroma_list)"
   ]
  },
  {
   "cell_type": "code",
   "execution_count": 15,
   "metadata": {},
   "outputs": [],
   "source": [
    "from sklearn import preprocessing\n",
    "le = preprocessing.LabelEncoder()\n",
    "y_features = keras.utils.np_utils.to_categorical(le.fit_transform(category_list))"
   ]
  },
  {
   "cell_type": "markdown",
   "metadata": {},
   "source": [
    "### Save Feature Extraction Results to Disk"
   ]
  },
  {
   "cell_type": "markdown",
   "metadata": {},
   "source": [
    "Note:  We're saving the extracted features to a file in case we need them later on.  This helps us not have to re-run the Feature Extraction Steps."
   ]
  },
  {
   "cell_type": "code",
   "execution_count": 16,
   "metadata": {},
   "outputs": [],
   "source": [
    "np.save(\"{}features.npy\".format(model_output_path), X_features)\n",
    "np.save(\"{}labels.npy\".format(model_output_path), y_features)\n",
    "np.save(\"{}label_encoder.npy\".format(model_output_path), le)"
   ]
  },
  {
   "cell_type": "markdown",
   "metadata": {},
   "source": [
    "### Model Training"
   ]
  },
  {
   "cell_type": "code",
   "execution_count": 17,
   "metadata": {},
   "outputs": [
    {
     "name": "stdout",
     "output_type": "stream",
     "text": [
      "Epoch 1/50\n",
      "2968/2968 [==============================] - 7s 2ms/step - loss: 3.4226 - categorical_accuracy: 0.1055\n",
      "Epoch 2/50\n",
      "2968/2968 [==============================] - 5s 2ms/step - loss: 3.1523 - categorical_accuracy: 0.1503\n",
      "Epoch 3/50\n",
      "2968/2968 [==============================] - 5s 2ms/step - loss: 3.0226 - categorical_accuracy: 0.1678\n",
      "Epoch 4/50\n",
      "2968/2968 [==============================] - 5s 2ms/step - loss: 2.9186 - categorical_accuracy: 0.1698\n",
      "Epoch 5/50\n",
      "2968/2968 [==============================] - 5s 2ms/step - loss: 2.7789 - categorical_accuracy: 0.2163\n",
      "Epoch 6/50\n",
      "2968/2968 [==============================] - 5s 2ms/step - loss: 2.6949 - categorical_accuracy: 0.2318\n",
      "Epoch 7/50\n",
      "2968/2968 [==============================] - 5s 2ms/step - loss: 2.6087 - categorical_accuracy: 0.2591\n",
      "Epoch 8/50\n",
      "2968/2968 [==============================] - 5s 2ms/step - loss: 2.5631 - categorical_accuracy: 0.2719\n",
      "Epoch 9/50\n",
      "2968/2968 [==============================] - 6s 2ms/step - loss: 2.4750 - categorical_accuracy: 0.2958\n",
      "Epoch 10/50\n",
      "2968/2968 [==============================] - 5s 2ms/step - loss: 2.4379 - categorical_accuracy: 0.2968\n",
      "Epoch 11/50\n",
      "2968/2968 [==============================] - 5s 2ms/step - loss: 2.3487 - categorical_accuracy: 0.3272\n",
      "Epoch 12/50\n",
      "2968/2968 [==============================] - 5s 2ms/step - loss: 2.2935 - categorical_accuracy: 0.3497\n",
      "Epoch 13/50\n",
      "2968/2968 [==============================] - 5s 2ms/step - loss: 2.2482 - categorical_accuracy: 0.3544\n",
      "Epoch 14/50\n",
      "2968/2968 [==============================] - 5s 2ms/step - loss: 2.2318 - categorical_accuracy: 0.3494\n",
      "Epoch 15/50\n",
      "2968/2968 [==============================] - 5s 2ms/step - loss: 2.1490 - categorical_accuracy: 0.3861\n",
      "Epoch 16/50\n",
      "2968/2968 [==============================] - 5s 2ms/step - loss: 2.0945 - categorical_accuracy: 0.4003\n",
      "Epoch 17/50\n",
      "2968/2968 [==============================] - 5s 2ms/step - loss: 2.0618 - categorical_accuracy: 0.4104\n",
      "Epoch 18/50\n",
      "2968/2968 [==============================] - 5s 2ms/step - loss: 1.9962 - categorical_accuracy: 0.4212\n",
      "Epoch 19/50\n",
      "2968/2968 [==============================] - 5s 2ms/step - loss: 1.9463 - categorical_accuracy: 0.4447\n",
      "Epoch 20/50\n",
      "2968/2968 [==============================] - 5s 2ms/step - loss: 1.8992 - categorical_accuracy: 0.4532\n",
      "Epoch 21/50\n",
      "2968/2968 [==============================] - 5s 2ms/step - loss: 1.8536 - categorical_accuracy: 0.4656\n",
      "Epoch 22/50\n",
      "2968/2968 [==============================] - 5s 2ms/step - loss: 1.8229 - categorical_accuracy: 0.4663\n",
      "Epoch 23/50\n",
      "2968/2968 [==============================] - 5s 2ms/step - loss: 1.7622 - categorical_accuracy: 0.4943\n",
      "Epoch 24/50\n",
      "2968/2968 [==============================] - 5s 2ms/step - loss: 1.7324 - categorical_accuracy: 0.4855\n",
      "Epoch 25/50\n",
      "2968/2968 [==============================] - 5s 2ms/step - loss: 1.6527 - categorical_accuracy: 0.5239\n",
      "Epoch 26/50\n",
      "2968/2968 [==============================] - 5s 2ms/step - loss: 1.6472 - categorical_accuracy: 0.5195\n",
      "Epoch 27/50\n",
      "2968/2968 [==============================] - 5s 2ms/step - loss: 1.5903 - categorical_accuracy: 0.5367\n",
      "Epoch 28/50\n",
      "2968/2968 [==============================] - 5s 2ms/step - loss: 1.5764 - categorical_accuracy: 0.5438\n",
      "Epoch 29/50\n",
      "2968/2968 [==============================] - 5s 2ms/step - loss: 1.4958 - categorical_accuracy: 0.5778\n",
      "Epoch 30/50\n",
      "2968/2968 [==============================] - 5s 2ms/step - loss: 1.4739 - categorical_accuracy: 0.5660\n",
      "Epoch 31/50\n",
      "2968/2968 [==============================] - 5s 2ms/step - loss: 1.4616 - categorical_accuracy: 0.5721\n",
      "Epoch 32/50\n",
      "2968/2968 [==============================] - 5s 2ms/step - loss: 1.3831 - categorical_accuracy: 0.6105\n",
      "Epoch 33/50\n",
      "2968/2968 [==============================] - 5s 2ms/step - loss: 1.3906 - categorical_accuracy: 0.5950\n",
      "Epoch 34/50\n",
      "2968/2968 [==============================] - 5s 2ms/step - loss: 1.3417 - categorical_accuracy: 0.6156\n",
      "Epoch 35/50\n",
      "2968/2968 [==============================] - 5s 2ms/step - loss: 1.3114 - categorical_accuracy: 0.6277\n",
      "Epoch 36/50\n",
      "2968/2968 [==============================] - 5s 2ms/step - loss: 1.2732 - categorical_accuracy: 0.6392\n",
      "Epoch 37/50\n",
      "2968/2968 [==============================] - 5s 2ms/step - loss: 1.2585 - categorical_accuracy: 0.6351\n",
      "Epoch 38/50\n",
      "2968/2968 [==============================] - 5s 2ms/step - loss: 1.1934 - categorical_accuracy: 0.6600\n",
      "Epoch 39/50\n",
      "2968/2968 [==============================] - 5s 2ms/step - loss: 1.1684 - categorical_accuracy: 0.6678\n",
      "Epoch 40/50\n",
      "2968/2968 [==============================] - 5s 2ms/step - loss: 1.1802 - categorical_accuracy: 0.6637\n",
      "Epoch 41/50\n",
      "2968/2968 [==============================] - 5s 2ms/step - loss: 1.1529 - categorical_accuracy: 0.6691\n",
      "Epoch 42/50\n",
      "2968/2968 [==============================] - 5s 2ms/step - loss: 1.1212 - categorical_accuracy: 0.6819\n",
      "Epoch 43/50\n",
      "2968/2968 [==============================] - 5s 2ms/step - loss: 1.0843 - categorical_accuracy: 0.6883\n",
      "Epoch 44/50\n",
      "2968/2968 [==============================] - 5s 2ms/step - loss: 1.0444 - categorical_accuracy: 0.6958\n",
      "Epoch 45/50\n",
      "2968/2968 [==============================] - 5s 2ms/step - loss: 1.0176 - categorical_accuracy: 0.7143\n",
      "Epoch 46/50\n",
      "2968/2968 [==============================] - 5s 2ms/step - loss: 1.0113 - categorical_accuracy: 0.7163\n",
      "Epoch 47/50\n",
      "2968/2968 [==============================] - 5s 2ms/step - loss: 0.9901 - categorical_accuracy: 0.7143\n",
      "Epoch 48/50\n",
      "2968/2968 [==============================] - 5s 2ms/step - loss: 0.9763 - categorical_accuracy: 0.7146\n",
      "Epoch 49/50\n",
      "2968/2968 [==============================] - 5s 2ms/step - loss: 0.9495 - categorical_accuracy: 0.7264\n",
      "Epoch 50/50\n",
      "2968/2968 [==============================] - 5s 2ms/step - loss: 0.9282 - categorical_accuracy: 0.7433\n"
     ]
    },
    {
     "data": {
      "text/plain": [
       "<keras.callbacks.History at 0x13cbce630>"
      ]
     },
     "execution_count": 17,
     "metadata": {},
     "output_type": "execute_result"
    }
   ],
   "source": [
    "model = Sequential()\n",
    "model.add(BatchNormalization(input_shape=[X_features.shape[1], X_features.shape[2]]))\n",
    "model.add(LSTM(units=128, dropout=0.05, recurrent_dropout=0.35, return_sequences=True))\n",
    "model.add(LSTM(units=32, dropout=0.05, recurrent_dropout=0.35, return_sequences=False))\n",
    "model.add(Dense(len(le.classes_), activation='softmax'))\n",
    "\n",
    "model.compile(loss='categorical_crossentropy', optimizer='Adam', metrics=['categorical_accuracy'])\n",
    "\n",
    "model.fit(X_features, y_features, batch_size=16, epochs=50)"
   ]
  },
  {
   "cell_type": "markdown",
   "metadata": {},
   "source": [
    "### Now that our Model is trained, let's take a look at the Model Layers"
   ]
  },
  {
   "cell_type": "code",
   "execution_count": 42,
   "metadata": {},
   "outputs": [
    {
     "name": "stdout",
     "output_type": "stream",
     "text": [
      "_________________________________________________________________\n",
      "Layer (type)                 Output Shape              Param #   \n",
      "=================================================================\n",
      "batch_normalization_1 (Batch (None, 12, 128)           512       \n",
      "_________________________________________________________________\n",
      "lstm_1 (LSTM)                (None, 12, 128)           131584    \n",
      "_________________________________________________________________\n",
      "lstm_2 (LSTM)                (None, 32)                20608     \n",
      "_________________________________________________________________\n",
      "dense_1 (Dense)              (None, 41)                1353      \n",
      "=================================================================\n",
      "Total params: 154,057\n",
      "Trainable params: 153,801\n",
      "Non-trainable params: 256\n",
      "_________________________________________________________________\n"
     ]
    }
   ],
   "source": [
    "model.summary()"
   ]
  },
  {
   "cell_type": "markdown",
   "metadata": {},
   "source": [
    "### Save the Trained Model to Disk"
   ]
  },
  {
   "cell_type": "code",
   "execution_count": 43,
   "metadata": {},
   "outputs": [],
   "source": [
    "from keras.models import load_model\n",
    "model.save(\"{}model.h5\".format(model_output_path))"
   ]
  },
  {
   "cell_type": "markdown",
   "metadata": {},
   "source": [
    "### Let's Take a Look at How the Model is Performing"
   ]
  },
  {
   "cell_type": "code",
   "execution_count": 44,
   "metadata": {},
   "outputs": [],
   "source": [
    "chroma = np.array([get_chroma(\"{}Bass_drum/f78fbf28.wav\".format(val_data_path), max_feature_length)])"
   ]
  },
  {
   "cell_type": "code",
   "execution_count": 45,
   "metadata": {},
   "outputs": [
    {
     "data": {
      "text/plain": [
       "array([[3.74499905e-05, 2.49708624e-04, 2.85985060e-02, 4.38461676e-02,\n",
       "        3.97507567e-03, 3.22752458e-04, 4.28946340e-04, 1.70880856e-04,\n",
       "        1.00219110e-02, 4.56794584e-03, 6.31520711e-03, 2.20371308e-04,\n",
       "        2.31297709e-05, 2.58389376e-02, 3.21826228e-04, 1.30283624e-01,\n",
       "        6.93959519e-02, 5.23019815e-03, 1.92271604e-03, 1.44631753e-03,\n",
       "        2.22594281e-05, 2.07080618e-01, 4.19673670e-05, 2.23067240e-03,\n",
       "        2.16977540e-02, 3.24318977e-03, 1.26051502e-02, 4.88847531e-02,\n",
       "        5.21368086e-02, 1.08448425e-02, 3.46357294e-04, 6.52797753e-03,\n",
       "        1.96367707e-02, 2.74682534e-04, 7.76502490e-03, 6.62474311e-04,\n",
       "        1.72162727e-01, 5.26656918e-02, 9.89879016e-03, 2.68229214e-03,\n",
       "        3.53715047e-02]], dtype=float32)"
      ]
     },
     "execution_count": 45,
     "metadata": {},
     "output_type": "execute_result"
    }
   ],
   "source": [
    "prediction = model.predict(chroma)\n",
    "prediction"
   ]
  },
  {
   "cell_type": "code",
   "execution_count": 46,
   "metadata": {},
   "outputs": [
    {
     "data": {
      "text/plain": [
       "'Gunshot_or_gunfire'"
      ]
     },
     "execution_count": 46,
     "metadata": {},
     "output_type": "execute_result"
    }
   ],
   "source": [
    "le.classes_[np.argmax(prediction)]"
   ]
  },
  {
   "cell_type": "markdown",
   "metadata": {},
   "source": [
    "### Let's run Prediction on the files in our Validation DataSet"
   ]
  },
  {
   "cell_type": "markdown",
   "metadata": {},
   "source": [
    "### Load the Validation Dataset"
   ]
  },
  {
   "cell_type": "code",
   "execution_count": 47,
   "metadata": {},
   "outputs": [],
   "source": [
    "df_validation = pd.read_csv(\"data/validation_split.csv\")"
   ]
  },
  {
   "cell_type": "code",
   "execution_count": 48,
   "metadata": {},
   "outputs": [],
   "source": [
    "df_validation[\"predicted_label\"] = \"\""
   ]
  },
  {
   "cell_type": "code",
   "execution_count": 49,
   "metadata": {},
   "outputs": [
    {
     "name": "stdout",
     "output_type": "stream",
     "text": [
      "(742, 4)\n"
     ]
    },
    {
     "data": {
      "text/html": [
       "<div>\n",
       "<style scoped>\n",
       "    .dataframe tbody tr th:only-of-type {\n",
       "        vertical-align: middle;\n",
       "    }\n",
       "\n",
       "    .dataframe tbody tr th {\n",
       "        vertical-align: top;\n",
       "    }\n",
       "\n",
       "    .dataframe thead th {\n",
       "        text-align: right;\n",
       "    }\n",
       "</style>\n",
       "<table border=\"1\" class=\"dataframe\">\n",
       "  <thead>\n",
       "    <tr style=\"text-align: right;\">\n",
       "      <th></th>\n",
       "      <th>fname</th>\n",
       "      <th>manually_verified</th>\n",
       "      <th>label</th>\n",
       "      <th>predicted_label</th>\n",
       "    </tr>\n",
       "  </thead>\n",
       "  <tbody>\n",
       "    <tr>\n",
       "      <th>0</th>\n",
       "      <td>9df6bdd3.wav</td>\n",
       "      <td>1</td>\n",
       "      <td>Glockenspiel</td>\n",
       "      <td></td>\n",
       "    </tr>\n",
       "    <tr>\n",
       "      <th>1</th>\n",
       "      <td>6d3722db.wav</td>\n",
       "      <td>1</td>\n",
       "      <td>Gong</td>\n",
       "      <td></td>\n",
       "    </tr>\n",
       "    <tr>\n",
       "      <th>2</th>\n",
       "      <td>2500d6e9.wav</td>\n",
       "      <td>1</td>\n",
       "      <td>Telephone</td>\n",
       "      <td></td>\n",
       "    </tr>\n",
       "    <tr>\n",
       "      <th>3</th>\n",
       "      <td>5f20684f.wav</td>\n",
       "      <td>1</td>\n",
       "      <td>Cough</td>\n",
       "      <td></td>\n",
       "    </tr>\n",
       "    <tr>\n",
       "      <th>4</th>\n",
       "      <td>b9dd574a.wav</td>\n",
       "      <td>1</td>\n",
       "      <td>Acoustic_guitar</td>\n",
       "      <td></td>\n",
       "    </tr>\n",
       "  </tbody>\n",
       "</table>\n",
       "</div>"
      ],
      "text/plain": [
       "          fname  manually_verified            label predicted_label\n",
       "0  9df6bdd3.wav                  1     Glockenspiel                \n",
       "1  6d3722db.wav                  1             Gong                \n",
       "2  2500d6e9.wav                  1        Telephone                \n",
       "3  5f20684f.wav                  1            Cough                \n",
       "4  b9dd574a.wav                  1  Acoustic_guitar                "
      ]
     },
     "execution_count": 49,
     "metadata": {},
     "output_type": "execute_result"
    }
   ],
   "source": [
    "print(df_validation.shape)\n",
    "df_validation.head()"
   ]
  },
  {
   "cell_type": "markdown",
   "metadata": {},
   "source": [
    "### Iterate over the Validation Dataset and Run the Model Prediction Step"
   ]
  },
  {
   "cell_type": "code",
   "execution_count": 51,
   "metadata": {},
   "outputs": [],
   "source": [
    "for index, row in df_validation.iterrows():\n",
    "    val_file_path = \"{}{}/{}\".format(val_data_path, row['label'], row['fname'])\n",
    "  \n",
    "    chroma = np.array([get_chroma(val_file_path, max_feature_length)])\n",
    "    prediction = model.predict(chroma)\n",
    "    predicted_label = le.classes_[np.argmax(prediction)]\n",
    "\n",
    "    df_validation.at[index,'predicted_label'] = predicted_label"
   ]
  },
  {
   "cell_type": "code",
   "execution_count": 52,
   "metadata": {},
   "outputs": [
    {
     "data": {
      "text/html": [
       "<div>\n",
       "<style scoped>\n",
       "    .dataframe tbody tr th:only-of-type {\n",
       "        vertical-align: middle;\n",
       "    }\n",
       "\n",
       "    .dataframe tbody tr th {\n",
       "        vertical-align: top;\n",
       "    }\n",
       "\n",
       "    .dataframe thead th {\n",
       "        text-align: right;\n",
       "    }\n",
       "</style>\n",
       "<table border=\"1\" class=\"dataframe\">\n",
       "  <thead>\n",
       "    <tr style=\"text-align: right;\">\n",
       "      <th></th>\n",
       "      <th>fname</th>\n",
       "      <th>manually_verified</th>\n",
       "      <th>label</th>\n",
       "      <th>predicted_label</th>\n",
       "    </tr>\n",
       "  </thead>\n",
       "  <tbody>\n",
       "    <tr>\n",
       "      <th>0</th>\n",
       "      <td>9df6bdd3.wav</td>\n",
       "      <td>1</td>\n",
       "      <td>Glockenspiel</td>\n",
       "      <td>Glockenspiel</td>\n",
       "    </tr>\n",
       "    <tr>\n",
       "      <th>1</th>\n",
       "      <td>6d3722db.wav</td>\n",
       "      <td>1</td>\n",
       "      <td>Gong</td>\n",
       "      <td>Cello</td>\n",
       "    </tr>\n",
       "    <tr>\n",
       "      <th>2</th>\n",
       "      <td>2500d6e9.wav</td>\n",
       "      <td>1</td>\n",
       "      <td>Telephone</td>\n",
       "      <td>Violin_or_fiddle</td>\n",
       "    </tr>\n",
       "    <tr>\n",
       "      <th>3</th>\n",
       "      <td>5f20684f.wav</td>\n",
       "      <td>1</td>\n",
       "      <td>Cough</td>\n",
       "      <td>Drawer_open_or_close</td>\n",
       "    </tr>\n",
       "    <tr>\n",
       "      <th>4</th>\n",
       "      <td>b9dd574a.wav</td>\n",
       "      <td>1</td>\n",
       "      <td>Acoustic_guitar</td>\n",
       "      <td>Acoustic_guitar</td>\n",
       "    </tr>\n",
       "  </tbody>\n",
       "</table>\n",
       "</div>"
      ],
      "text/plain": [
       "          fname  manually_verified            label       predicted_label\n",
       "0  9df6bdd3.wav                  1     Glockenspiel          Glockenspiel\n",
       "1  6d3722db.wav                  1             Gong                 Cello\n",
       "2  2500d6e9.wav                  1        Telephone      Violin_or_fiddle\n",
       "3  5f20684f.wav                  1            Cough  Drawer_open_or_close\n",
       "4  b9dd574a.wav                  1  Acoustic_guitar       Acoustic_guitar"
      ]
     },
     "execution_count": 52,
     "metadata": {},
     "output_type": "execute_result"
    }
   ],
   "source": [
    "df_validation.head()"
   ]
  },
  {
   "cell_type": "markdown",
   "metadata": {},
   "source": [
    "### Let's Review our F1 Score per Category"
   ]
  },
  {
   "cell_type": "code",
   "execution_count": 53,
   "metadata": {},
   "outputs": [
    {
     "name": "stdout",
     "output_type": "stream",
     "text": [
      "                       precision    recall  f1-score   support\n",
      "\n",
      "      Acoustic_guitar       0.45      0.43      0.44        21\n",
      "             Applause       0.23      0.25      0.24        12\n",
      "                 Bark       0.25      0.23      0.24        13\n",
      "            Bass_drum       0.53      0.62      0.57        13\n",
      "Burping_or_eructation       0.27      0.27      0.27        15\n",
      "                  Bus       0.09      0.08      0.09        12\n",
      "                Cello       0.39      0.36      0.37        25\n",
      "                Chime       0.20      0.23      0.21        13\n",
      "             Clarinet       0.30      0.23      0.26        26\n",
      "    Computer_keyboard       0.00      0.00      0.00        12\n",
      "                Cough       0.22      0.14      0.17        14\n",
      "              Cowbell       0.77      0.89      0.83        19\n",
      "          Double_bass       0.29      0.32      0.30        19\n",
      " Drawer_open_or_close       0.00      0.00      0.00        13\n",
      "       Electric_piano       0.11      0.07      0.08        15\n",
      "                 Fart       0.00      0.00      0.00        14\n",
      "      Finger_snapping       0.50      0.73      0.59        15\n",
      "            Fireworks       0.20      0.13      0.16        15\n",
      "                Flute       0.30      0.42      0.35        26\n",
      "         Glockenspiel       0.48      0.86      0.62        14\n",
      "                 Gong       0.25      0.24      0.24        17\n",
      "   Gunshot_or_gunfire       0.26      0.28      0.27        29\n",
      "            Harmonica       0.25      0.17      0.20        18\n",
      "               Hi-hat       0.60      0.33      0.43        18\n",
      "        Keys_jangling       0.25      0.15      0.19        13\n",
      "                Knock       0.12      0.17      0.14        18\n",
      "             Laughter       0.24      0.22      0.23        18\n",
      "                 Meow       0.17      0.14      0.15        14\n",
      "       Microwave_oven       0.43      0.23      0.30        13\n",
      "                 Oboe       0.44      0.20      0.28        20\n",
      "            Saxophone       0.34      0.43      0.38        51\n",
      "             Scissors       0.00      0.00      0.00        12\n",
      "              Shatter       0.09      0.15      0.11        13\n",
      "           Snare_drum       0.17      0.21      0.19        14\n",
      "               Squeak       0.00      0.00      0.00        14\n",
      "           Tambourine       0.55      0.58      0.56        19\n",
      "              Tearing       0.00      0.00      0.00        12\n",
      "            Telephone       0.12      0.09      0.10        23\n",
      "              Trumpet       0.22      0.24      0.23        17\n",
      "     Violin_or_fiddle       0.38      0.50      0.43        50\n",
      "              Writing       0.06      0.08      0.07        13\n",
      "\n",
      "            micro avg       0.29      0.29      0.29       742\n",
      "            macro avg       0.26      0.26      0.25       742\n",
      "         weighted avg       0.28      0.29      0.28       742\n",
      "\n"
     ]
    }
   ],
   "source": [
    "y_val = df_validation.label\n",
    "y_val_predicted = df_validation.predicted_label\n",
    "\n",
    "# Classification Report\n",
    "from sklearn.metrics import classification_report\n",
    "print(classification_report(y_val, y_val_predicted))"
   ]
  },
  {
   "cell_type": "code",
   "execution_count": null,
   "metadata": {},
   "outputs": [],
   "source": []
  }
 ],
 "metadata": {
  "kernelspec": {
   "display_name": "Python 3",
   "language": "python",
   "name": "python3"
  },
  "language_info": {
   "codemirror_mode": {
    "name": "ipython",
    "version": 3
   },
   "file_extension": ".py",
   "mimetype": "text/x-python",
   "name": "python",
   "nbconvert_exporter": "python",
   "pygments_lexer": "ipython3",
   "version": "3.6.15"
  }
 },
 "nbformat": 4,
 "nbformat_minor": 4
}
