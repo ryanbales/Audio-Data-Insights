{
 "cells": [
  {
   "cell_type": "markdown",
   "metadata": {},
   "source": [
    "# Building an Audio Data Model using MFCC Features"
   ]
  },
  {
   "cell_type": "markdown",
   "metadata": {},
   "source": [
    "#### Ryan Bales (@ryanbales)<br>ryan@balesofdata.com"
   ]
  },
  {
   "cell_type": "markdown",
   "metadata": {},
   "source": [
    "***"
   ]
  },
  {
   "cell_type": "markdown",
   "metadata": {},
   "source": [
    "### Import Packages"
   ]
  },
  {
   "cell_type": "code",
   "execution_count": 126,
   "metadata": {},
   "outputs": [],
   "source": [
    "import librosa\n",
    "import librosa.display\n",
    "import matplotlib.pyplot as plt\n",
    "import numpy as np\n",
    "import pandas as pd\n",
    "import os\n",
    "import keras\n",
    "from keras.models import Sequential\n",
    "from keras.layers import Dense, Dropout, Flatten\n",
    "from keras.layers import BatchNormalization\n",
    "from keras.layers import LSTM"
   ]
  },
  {
   "cell_type": "markdown",
   "metadata": {},
   "source": [
    "#### Define Constants"
   ]
  },
  {
   "cell_type": "code",
   "execution_count": 141,
   "metadata": {},
   "outputs": [],
   "source": [
    "num_mfccs = 20\n",
    "max_feature_length = 128\n",
    "\n",
    "train_data_path = \"data/audio_train/train/\"\n",
    "val_data_path = \"data/audio_train/validation/\"\n",
    "\n",
    "model_output_path = \"models/mfcc/\""
   ]
  },
  {
   "cell_type": "markdown",
   "metadata": {},
   "source": [
    "### Feature Extraction"
   ]
  },
  {
   "cell_type": "markdown",
   "metadata": {},
   "source": [
    "#### Let's take a look at the Librosa Python Library"
   ]
  },
  {
   "cell_type": "code",
   "execution_count": 127,
   "metadata": {},
   "outputs": [],
   "source": [
    "raw_audio, sample_rate = librosa.load(\"{}Applause/170eeda2.wav\".format(train_data_path), sr=None)"
   ]
  },
  {
   "cell_type": "code",
   "execution_count": 128,
   "metadata": {},
   "outputs": [
    {
     "data": {
      "text/plain": [
       "array([ 3.0517578e-05,  3.0517578e-05,  3.0517578e-05, ...,\n",
       "       -6.1035156e-05,  6.1035156e-05, -3.0517578e-05], dtype=float32)"
      ]
     },
     "execution_count": 128,
     "metadata": {},
     "output_type": "execute_result"
    }
   ],
   "source": [
    "raw_audio"
   ]
  },
  {
   "cell_type": "code",
   "execution_count": 129,
   "metadata": {},
   "outputs": [
    {
     "data": {
      "text/plain": [
       "(312228,)"
      ]
     },
     "execution_count": 129,
     "metadata": {},
     "output_type": "execute_result"
    }
   ],
   "source": [
    "raw_audio.shape"
   ]
  },
  {
   "cell_type": "code",
   "execution_count": 130,
   "metadata": {},
   "outputs": [
    {
     "data": {
      "text/plain": [
       "44100"
      ]
     },
     "execution_count": 130,
     "metadata": {},
     "output_type": "execute_result"
    }
   ],
   "source": [
    "sample_rate"
   ]
  },
  {
   "cell_type": "markdown",
   "metadata": {},
   "source": [
    "#### Visualize the RAW Audio"
   ]
  },
  {
   "cell_type": "code",
   "execution_count": 131,
   "metadata": {},
   "outputs": [
    {
     "data": {
      "text/plain": [
       "Text(0.5, 1.0, 'RAW Audio')"
      ]
     },
     "execution_count": 131,
     "metadata": {},
     "output_type": "execute_result"
    },
    {
     "data": {
      "image/png": "[encoded data removed]",
      "text/plain": [
       "<Figure size 720x288 with 1 Axes>"
      ]
     },
     "metadata": {
      "needs_background": "light"
     },
     "output_type": "display_data"
    }
   ],
   "source": [
    "plt.figure(figsize=(10, 4))\n",
    "librosa.display.waveplot(raw_audio, sr=sample_rate)\n",
    "plt.title('RAW Audio')"
   ]
  },
  {
   "cell_type": "markdown",
   "metadata": {},
   "source": [
    "#### Extract MFCCs using Librosa"
   ]
  },
  {
   "cell_type": "code",
   "execution_count": 132,
   "metadata": {},
   "outputs": [],
   "source": [
    "mfccs = librosa.feature.mfcc(y=raw_audio, sr=sample_rate, n_mfcc=num_mfccs)"
   ]
  },
  {
   "cell_type": "code",
   "execution_count": 133,
   "metadata": {},
   "outputs": [
    {
     "data": {
      "text/plain": [
       "array([[-8.33012490e+02, -8.26159342e+02, -8.09545148e+02, ...,\n",
       "        -8.17940993e+02, -8.27972441e+02, -8.33583067e+02],\n",
       "       [ 3.43179270e+00,  1.14908740e+01,  2.63001145e+01, ...,\n",
       "         2.30443836e+01,  1.37528751e+01,  4.16150016e+00],\n",
       "       [-1.01470551e+00,  4.82294372e+00,  1.18058330e+01, ...,\n",
       "         9.53275482e+00,  8.09003604e+00,  4.10019706e+00],\n",
       "       ...,\n",
       "       [ 1.60962695e+00, -1.64467149e+00, -4.76585816e+00, ...,\n",
       "         8.45138674e+00,  4.30276640e+00,  1.39667285e+00],\n",
       "       [ 7.98147871e-01,  1.50607282e+00, -4.91686060e+00, ...,\n",
       "         7.56358810e+00,  4.02862417e+00, -1.61518829e-01],\n",
       "       [-3.93310439e-01,  2.42145825e+00, -1.11721946e-01, ...,\n",
       "         6.51856487e+00,  5.70180846e+00,  2.37487586e+00]])"
      ]
     },
     "execution_count": 133,
     "metadata": {},
     "output_type": "execute_result"
    }
   ],
   "source": [
    "mfccs"
   ]
  },
  {
   "cell_type": "code",
   "execution_count": 164,
   "metadata": {},
   "outputs": [
    {
     "ename": "AttributeError",
     "evalue": "'list' object has no attribute 'shape'",
     "output_type": "error",
     "traceback": [
      "\u001b[0;31m---------------------------------------------------------------------------\u001b[0m",
      "\u001b[0;31mAttributeError\u001b[0m                            Traceback (most recent call last)",
      "\u001b[0;32m<ipython-input-164-e01f4b844c4b>\u001b[0m in \u001b[0;36m<module>\u001b[0;34m\u001b[0m\n\u001b[0;32m----> 1\u001b[0;31m \u001b[0mmfccs\u001b[0m\u001b[0;34m.\u001b[0m\u001b[0mshape\u001b[0m\u001b[0;34m\u001b[0m\u001b[0m\n\u001b[0m",
      "\u001b[0;31mAttributeError\u001b[0m: 'list' object has no attribute 'shape'"
     ]
    }
   ],
   "source": [
    "mfccs.shape"
   ]
  },
  {
   "cell_type": "markdown",
   "metadata": {},
   "source": [
    "#### Visualize the MFCCs"
   ]
  },
  {
   "cell_type": "code",
   "execution_count": 134,
   "metadata": {},
   "outputs": [
    {
     "data": {
      "image/png": "[encoded data removed]",
      "text/plain": [
       "<Figure size 720x288 with 2 Axes>"
      ]
     },
     "metadata": {
      "needs_background": "light"
     },
     "output_type": "display_data"
    }
   ],
   "source": [
    "plt.figure(figsize=(10, 4))\n",
    "librosa.display.specshow(mfccs, x_axis='time')\n",
    "plt.colorbar()\n",
    "plt.title('MFCC')\n",
    "plt.tight_layout()"
   ]
  },
  {
   "cell_type": "markdown",
   "metadata": {},
   "source": [
    "####  Define a Method to Extact MFCCs from an Audio File"
   ]
  },
  {
   "cell_type": "code",
   "execution_count": 136,
   "metadata": {},
   "outputs": [],
   "source": [
    "def get_mfccs(wav_file, num_mfcc=20, max_length=128):\n",
    "    raw_audio, sample_rate = librosa.load(wav_file, sr=None, duration=1)\n",
    "    mfccs = librosa.feature.mfcc(y=raw_audio, sr=sample_rate, n_mfcc=num_mfcc)\n",
    "    \n",
    "    # Truncate Each MFCC to max_length\n",
    "    if (max_length > mfccs.shape[1]):\n",
    "        pad_width = max_length - mfccs.shape[1]\n",
    "        mfccs = np.pad(mfccs, pad_width=((0, 0), (0, pad_width)), mode='constant')\n",
    "    else:\n",
    "        mfccs = mfccs[:, :max_length]\n",
    "        \n",
    "    return mfccs"
   ]
  },
  {
   "cell_type": "markdown",
   "metadata": {},
   "source": [
    "#### Process all Files and Extract Features"
   ]
  },
  {
   "cell_type": "code",
   "execution_count": 137,
   "metadata": {},
   "outputs": [],
   "source": [
    "mfcc_list = []\n",
    "category_list = []\n",
    "\n",
    "for root, subdirs, files in os.walk(train_data_path):\n",
    "    subdirs.sort()\n",
    "    for subdir in subdirs:\n",
    "        for file_name in os.listdir(os.path.join(root, subdir)):\n",
    "            if file_name.endswith(\".wav\"):\n",
    "                mfcc = get_mfccs(os.path.join(root, subdir, file_name), num_mfccs, max_feature_length)\n",
    "                mfcc_list.append(mfcc)\n",
    "                category_list.append(subdir)"
   ]
  },
  {
   "cell_type": "code",
   "execution_count": 138,
   "metadata": {},
   "outputs": [],
   "source": [
    "X_features = np.array(mfcc_list)"
   ]
  },
  {
   "cell_type": "code",
   "execution_count": 139,
   "metadata": {},
   "outputs": [],
   "source": [
    "from sklearn import preprocessing\n",
    "le = preprocessing.LabelEncoder()\n",
    "y_features = keras.utils.np_utils.to_categorical(le.fit_transform(category_list))"
   ]
  },
  {
   "cell_type": "markdown",
   "metadata": {},
   "source": [
    "### Save Feature Extraction Results to Disk"
   ]
  },
  {
   "cell_type": "markdown",
   "metadata": {},
   "source": [
    "Note:  We're saving the extracted features to a file in case we need them later on.  This helps us not have to re-run the Feature Extraction Steps."
   ]
  },
  {
   "cell_type": "code",
   "execution_count": 143,
   "metadata": {},
   "outputs": [],
   "source": [
    "np.save(\"{}features.npy\".format(model_output_path), X_features)\n",
    "np.save(\"{}labels.npy\".format(model_output_path), y_features)\n",
    "np.save(\"{}label_encoder.npy\".format(model_output_path), le)"
   ]
  },
  {
   "cell_type": "markdown",
   "metadata": {},
   "source": [
    "### Model Training"
   ]
  },
  {
   "cell_type": "code",
   "execution_count": 151,
   "metadata": {},
   "outputs": [
    {
     "name": "stdout",
     "output_type": "stream",
     "text": [
      "Epoch 1/50\n",
      "2968/2968 [==============================] - 10s 3ms/step - loss: 3.6581 - categorical_accuracy: 0.0677\n",
      "Epoch 2/50\n",
      "2968/2968 [==============================] - 8s 3ms/step - loss: 3.4578 - categorical_accuracy: 0.1088\n",
      "Epoch 3/50\n",
      "2968/2968 [==============================] - 8s 3ms/step - loss: 3.1795 - categorical_accuracy: 0.1577\n",
      "Epoch 4/50\n",
      "2968/2968 [==============================] - 8s 3ms/step - loss: 2.9635 - categorical_accuracy: 0.2038\n",
      "Epoch 5/50\n",
      "2968/2968 [==============================] - 8s 3ms/step - loss: 2.7682 - categorical_accuracy: 0.2554\n",
      "Epoch 6/50\n",
      "2968/2968 [==============================] - 8s 3ms/step - loss: 2.6138 - categorical_accuracy: 0.2921\n",
      "Epoch 7/50\n",
      "2968/2968 [==============================] - 8s 3ms/step - loss: 2.5132 - categorical_accuracy: 0.3123\n",
      "Epoch 8/50\n",
      "2968/2968 [==============================] - 8s 3ms/step - loss: 2.3757 - categorical_accuracy: 0.3467\n",
      "Epoch 9/50\n",
      "2968/2968 [==============================] - 8s 3ms/step - loss: 2.2850 - categorical_accuracy: 0.3780\n",
      "Epoch 10/50\n",
      "2968/2968 [==============================] - 8s 3ms/step - loss: 2.2154 - categorical_accuracy: 0.3854\n",
      "Epoch 11/50\n",
      "2968/2968 [==============================] - 8s 3ms/step - loss: 2.1244 - categorical_accuracy: 0.4104\n",
      "Epoch 12/50\n",
      "2968/2968 [==============================] - 8s 3ms/step - loss: 2.0537 - categorical_accuracy: 0.4242\n",
      "Epoch 13/50\n",
      "2968/2968 [==============================] - 8s 3ms/step - loss: 1.9910 - categorical_accuracy: 0.4414\n",
      "Epoch 14/50\n",
      "2968/2968 [==============================] - 8s 3ms/step - loss: 1.9285 - categorical_accuracy: 0.4589\n",
      "Epoch 15/50\n",
      "2968/2968 [==============================] - 8s 3ms/step - loss: 1.8734 - categorical_accuracy: 0.4717\n",
      "Epoch 16/50\n",
      "2968/2968 [==============================] - 8s 3ms/step - loss: 1.8132 - categorical_accuracy: 0.4825\n",
      "Epoch 17/50\n",
      "2968/2968 [==============================] - 8s 3ms/step - loss: 1.7693 - categorical_accuracy: 0.5007\n",
      "Epoch 18/50\n",
      "2968/2968 [==============================] - 8s 3ms/step - loss: 1.6873 - categorical_accuracy: 0.5219\n",
      "Epoch 19/50\n",
      "2968/2968 [==============================] - 8s 3ms/step - loss: 1.6551 - categorical_accuracy: 0.5263\n",
      "Epoch 20/50\n",
      "2968/2968 [==============================] - 8s 3ms/step - loss: 1.6309 - categorical_accuracy: 0.5310\n",
      "Epoch 21/50\n",
      "2968/2968 [==============================] - 8s 3ms/step - loss: 1.5736 - categorical_accuracy: 0.5515\n",
      "Epoch 22/50\n",
      "2968/2968 [==============================] - 8s 3ms/step - loss: 1.5400 - categorical_accuracy: 0.5569\n",
      "Epoch 23/50\n",
      "2968/2968 [==============================] - 8s 3ms/step - loss: 1.4964 - categorical_accuracy: 0.5724\n",
      "Epoch 24/50\n",
      "2968/2968 [==============================] - 8s 3ms/step - loss: 1.5063 - categorical_accuracy: 0.5613\n",
      "Epoch 25/50\n",
      "2968/2968 [==============================] - 8s 3ms/step - loss: 1.4374 - categorical_accuracy: 0.5876\n",
      "Epoch 26/50\n",
      "2968/2968 [==============================] - 8s 3ms/step - loss: 1.4028 - categorical_accuracy: 0.5967\n",
      "Epoch 27/50\n",
      "2968/2968 [==============================] - 8s 3ms/step - loss: 1.3804 - categorical_accuracy: 0.5980\n",
      "Epoch 28/50\n",
      "2968/2968 [==============================] - 8s 3ms/step - loss: 1.3344 - categorical_accuracy: 0.6058\n",
      "Epoch 29/50\n",
      "2968/2968 [==============================] - 8s 3ms/step - loss: 1.3022 - categorical_accuracy: 0.6233\n",
      "Epoch 30/50\n",
      "2968/2968 [==============================] - 8s 3ms/step - loss: 1.2907 - categorical_accuracy: 0.6253\n",
      "Epoch 31/50\n",
      "2968/2968 [==============================] - 8s 3ms/step - loss: 1.2590 - categorical_accuracy: 0.6408\n",
      "Epoch 32/50\n",
      "2968/2968 [==============================] - 8s 3ms/step - loss: 1.2463 - categorical_accuracy: 0.6317\n",
      "Epoch 33/50\n",
      "2968/2968 [==============================] - 8s 3ms/step - loss: 1.1922 - categorical_accuracy: 0.6425\n",
      "Epoch 34/50\n",
      "2968/2968 [==============================] - 8s 3ms/step - loss: 1.1825 - categorical_accuracy: 0.6520\n",
      "Epoch 35/50\n",
      "2968/2968 [==============================] - 8s 3ms/step - loss: 1.1652 - categorical_accuracy: 0.6600\n",
      "Epoch 36/50\n",
      "2968/2968 [==============================] - 8s 3ms/step - loss: 1.1206 - categorical_accuracy: 0.6675\n",
      "Epoch 37/50\n",
      "2968/2968 [==============================] - 8s 3ms/step - loss: 1.1074 - categorical_accuracy: 0.6732\n",
      "Epoch 38/50\n",
      "2968/2968 [==============================] - 8s 3ms/step - loss: 1.0699 - categorical_accuracy: 0.6846\n",
      "Epoch 39/50\n",
      "2968/2968 [==============================] - 8s 3ms/step - loss: 1.0540 - categorical_accuracy: 0.6873\n",
      "Epoch 40/50\n",
      "2968/2968 [==============================] - 8s 3ms/step - loss: 1.0442 - categorical_accuracy: 0.6863\n",
      "Epoch 41/50\n",
      "2968/2968 [==============================] - 8s 3ms/step - loss: 1.0338 - categorical_accuracy: 0.6985\n",
      "Epoch 42/50\n",
      "2968/2968 [==============================] - 8s 3ms/step - loss: 1.0170 - categorical_accuracy: 0.6974\n",
      "Epoch 43/50\n",
      "2968/2968 [==============================] - 8s 3ms/step - loss: 0.9559 - categorical_accuracy: 0.7146\n",
      "Epoch 44/50\n",
      "2968/2968 [==============================] - 8s 3ms/step - loss: 0.9527 - categorical_accuracy: 0.7220\n",
      "Epoch 45/50\n",
      "2968/2968 [==============================] - 8s 3ms/step - loss: 0.9680 - categorical_accuracy: 0.7143\n",
      "Epoch 46/50\n",
      "2968/2968 [==============================] - 8s 3ms/step - loss: 0.9515 - categorical_accuracy: 0.7210\n",
      "Epoch 47/50\n",
      "2968/2968 [==============================] - 8s 3ms/step - loss: 0.9269 - categorical_accuracy: 0.7284\n",
      "Epoch 48/50\n",
      "2968/2968 [==============================] - 8s 3ms/step - loss: 0.8932 - categorical_accuracy: 0.7318\n",
      "Epoch 49/50\n",
      "2968/2968 [==============================] - 8s 3ms/step - loss: 0.8672 - categorical_accuracy: 0.7402\n",
      "Epoch 50/50\n",
      "2968/2968 [==============================] - 8s 3ms/step - loss: 0.8784 - categorical_accuracy: 0.7544\n"
     ]
    },
    {
     "data": {
      "text/plain": [
       "<keras.callbacks.History at 0x1405085f8>"
      ]
     },
     "execution_count": 151,
     "metadata": {},
     "output_type": "execute_result"
    }
   ],
   "source": [
    "model = Sequential()\n",
    "model.add(BatchNormalization(input_shape=[X_features.shape[1], X_features.shape[2]]))\n",
    "model.add(LSTM(units=128, dropout=0.05, recurrent_dropout=0.35, return_sequences=True))\n",
    "model.add(LSTM(units=32, dropout=0.05, recurrent_dropout=0.35, return_sequences=False))\n",
    "model.add(Dense(len(le.classes_), activation='softmax'))\n",
    "\n",
    "model.compile(loss='categorical_crossentropy', optimizer='Adam', metrics=['categorical_accuracy'])\n",
    "\n",
    "model.fit(X_features, y_features, batch_size=16, epochs=50)"
   ]
  },
  {
   "cell_type": "markdown",
   "metadata": {},
   "source": [
    "### Now that our Model is trained, let's take a look at the Model Layers"
   ]
  },
  {
   "cell_type": "code",
   "execution_count": 152,
   "metadata": {},
   "outputs": [
    {
     "name": "stdout",
     "output_type": "stream",
     "text": [
      "_________________________________________________________________\n",
      "Layer (type)                 Output Shape              Param #   \n",
      "=================================================================\n",
      "batch_normalization_2 (Batch (None, 20, 128)           512       \n",
      "_________________________________________________________________\n",
      "lstm_11 (LSTM)               (None, 20, 128)           131584    \n",
      "_________________________________________________________________\n",
      "lstm_12 (LSTM)               (None, 32)                20608     \n",
      "_________________________________________________________________\n",
      "dense_6 (Dense)              (None, 41)                1353      \n",
      "=================================================================\n",
      "Total params: 154,057\n",
      "Trainable params: 153,801\n",
      "Non-trainable params: 256\n",
      "_________________________________________________________________\n"
     ]
    }
   ],
   "source": [
    "model.summary()"
   ]
  },
  {
   "cell_type": "markdown",
   "metadata": {},
   "source": [
    "### Save the Trained Model to Disk"
   ]
  },
  {
   "cell_type": "code",
   "execution_count": 153,
   "metadata": {},
   "outputs": [],
   "source": [
    "from keras.models import load_model\n",
    "model.save(\"{}model.h5\".format(model_output_path))"
   ]
  },
  {
   "cell_type": "markdown",
   "metadata": {},
   "source": [
    "### Let's Take a Look at How the Model is Performing"
   ]
  },
  {
   "cell_type": "code",
   "execution_count": 154,
   "metadata": {},
   "outputs": [],
   "source": [
    "mfcc = np.array([get_mfccs(\"{}Bass_drum/f78fbf28.wav\".format(val_data_path), num_mfccs, max_feature_length)])"
   ]
  },
  {
   "cell_type": "code",
   "execution_count": 155,
   "metadata": {},
   "outputs": [
    {
     "data": {
      "text/plain": [
       "array([[6.7349281e-03, 1.0680612e-05, 2.3130319e-04, 7.5127470e-01,\n",
       "        2.9890854e-03, 2.1366378e-04, 4.1885034e-04, 6.5926841e-04,\n",
       "        8.0117426e-04, 6.9985869e-03, 7.6463679e-05, 8.2747231e-04,\n",
       "        1.2671275e-03, 4.7537908e-03, 2.0212080e-02, 3.1092241e-05,\n",
       "        6.2785563e-03, 4.5063475e-04, 1.8439752e-03, 4.8055672e-03,\n",
       "        9.6213509e-04, 4.5398009e-04, 2.1012006e-06, 5.7686717e-05,\n",
       "        1.0036258e-02, 1.0077981e-01, 2.0350535e-05, 3.5624081e-04,\n",
       "        1.6263690e-02, 3.4576977e-04, 6.4172469e-05, 2.3870235e-03,\n",
       "        5.1304007e-05, 4.9938120e-05, 1.4755059e-04, 2.2343053e-03,\n",
       "        3.1848534e-04, 1.7030019e-03, 1.4460400e-04, 1.5581268e-03,\n",
       "        5.1184498e-02]], dtype=float32)"
      ]
     },
     "execution_count": 155,
     "metadata": {},
     "output_type": "execute_result"
    }
   ],
   "source": [
    "prediction = model.predict(mfcc)\n",
    "prediction"
   ]
  },
  {
   "cell_type": "code",
   "execution_count": 157,
   "metadata": {},
   "outputs": [
    {
     "data": {
      "text/plain": [
       "'Bass_drum'"
      ]
     },
     "execution_count": 157,
     "metadata": {},
     "output_type": "execute_result"
    }
   ],
   "source": [
    "le.classes_[np.argmax(prediction)]"
   ]
  },
  {
   "cell_type": "markdown",
   "metadata": {},
   "source": [
    "### Let's run Prediction on the files in our Validation DataSet"
   ]
  },
  {
   "cell_type": "markdown",
   "metadata": {},
   "source": [
    "### Load the Validation Dataset"
   ]
  },
  {
   "cell_type": "code",
   "execution_count": 158,
   "metadata": {},
   "outputs": [],
   "source": [
    "df_validation = pd.read_csv(\"data/validation_split.csv\")"
   ]
  },
  {
   "cell_type": "code",
   "execution_count": 159,
   "metadata": {},
   "outputs": [],
   "source": [
    "df_validation[\"predicted_label\"] = \"\""
   ]
  },
  {
   "cell_type": "code",
   "execution_count": 160,
   "metadata": {},
   "outputs": [
    {
     "name": "stdout",
     "output_type": "stream",
     "text": [
      "(742, 4)\n"
     ]
    },
    {
     "data": {
      "text/html": [
       "<div>\n",
       "<style scoped>\n",
       "    .dataframe tbody tr th:only-of-type {\n",
       "        vertical-align: middle;\n",
       "    }\n",
       "\n",
       "    .dataframe tbody tr th {\n",
       "        vertical-align: top;\n",
       "    }\n",
       "\n",
       "    .dataframe thead th {\n",
       "        text-align: right;\n",
       "    }\n",
       "</style>\n",
       "<table border=\"1\" class=\"dataframe\">\n",
       "  <thead>\n",
       "    <tr style=\"text-align: right;\">\n",
       "      <th></th>\n",
       "      <th>fname</th>\n",
       "      <th>manually_verified</th>\n",
       "      <th>label</th>\n",
       "      <th>predicted_label</th>\n",
       "    </tr>\n",
       "  </thead>\n",
       "  <tbody>\n",
       "    <tr>\n",
       "      <th>0</th>\n",
       "      <td>9df6bdd3.wav</td>\n",
       "      <td>1</td>\n",
       "      <td>Glockenspiel</td>\n",
       "      <td></td>\n",
       "    </tr>\n",
       "    <tr>\n",
       "      <th>1</th>\n",
       "      <td>6d3722db.wav</td>\n",
       "      <td>1</td>\n",
       "      <td>Gong</td>\n",
       "      <td></td>\n",
       "    </tr>\n",
       "    <tr>\n",
       "      <th>2</th>\n",
       "      <td>2500d6e9.wav</td>\n",
       "      <td>1</td>\n",
       "      <td>Telephone</td>\n",
       "      <td></td>\n",
       "    </tr>\n",
       "    <tr>\n",
       "      <th>3</th>\n",
       "      <td>5f20684f.wav</td>\n",
       "      <td>1</td>\n",
       "      <td>Cough</td>\n",
       "      <td></td>\n",
       "    </tr>\n",
       "    <tr>\n",
       "      <th>4</th>\n",
       "      <td>b9dd574a.wav</td>\n",
       "      <td>1</td>\n",
       "      <td>Acoustic_guitar</td>\n",
       "      <td></td>\n",
       "    </tr>\n",
       "  </tbody>\n",
       "</table>\n",
       "</div>"
      ],
      "text/plain": [
       "          fname  manually_verified            label predicted_label\n",
       "0  9df6bdd3.wav                  1     Glockenspiel                \n",
       "1  6d3722db.wav                  1             Gong                \n",
       "2  2500d6e9.wav                  1        Telephone                \n",
       "3  5f20684f.wav                  1            Cough                \n",
       "4  b9dd574a.wav                  1  Acoustic_guitar                "
      ]
     },
     "execution_count": 160,
     "metadata": {},
     "output_type": "execute_result"
    }
   ],
   "source": [
    "print(df_validation.shape)\n",
    "df_validation.head()"
   ]
  },
  {
   "cell_type": "markdown",
   "metadata": {},
   "source": [
    "### Iterate over the Validation Dataset and Run the Model Prediction Step"
   ]
  },
  {
   "cell_type": "code",
   "execution_count": 161,
   "metadata": {},
   "outputs": [],
   "source": [
    "for index, row in df_validation.iterrows():\n",
    "    val_file_path = \"{}{}/{}\".format(val_data_path, row['label'], row['fname'])\n",
    "  \n",
    "    mfcc = np.array([get_mfccs(val_file_path, num_mfccs, max_feature_length)])\n",
    "    prediction = model.predict(mfcc)\n",
    "    predicted_label = le.classes_[np.argmax(prediction)]\n",
    "\n",
    "    df_validation.at[index,'predicted_label'] = predicted_label"
   ]
  },
  {
   "cell_type": "code",
   "execution_count": 162,
   "metadata": {},
   "outputs": [
    {
     "data": {
      "text/html": [
       "<div>\n",
       "<style scoped>\n",
       "    .dataframe tbody tr th:only-of-type {\n",
       "        vertical-align: middle;\n",
       "    }\n",
       "\n",
       "    .dataframe tbody tr th {\n",
       "        vertical-align: top;\n",
       "    }\n",
       "\n",
       "    .dataframe thead th {\n",
       "        text-align: right;\n",
       "    }\n",
       "</style>\n",
       "<table border=\"1\" class=\"dataframe\">\n",
       "  <thead>\n",
       "    <tr style=\"text-align: right;\">\n",
       "      <th></th>\n",
       "      <th>fname</th>\n",
       "      <th>manually_verified</th>\n",
       "      <th>label</th>\n",
       "      <th>predicted_label</th>\n",
       "    </tr>\n",
       "  </thead>\n",
       "  <tbody>\n",
       "    <tr>\n",
       "      <th>0</th>\n",
       "      <td>9df6bdd3.wav</td>\n",
       "      <td>1</td>\n",
       "      <td>Glockenspiel</td>\n",
       "      <td>Glockenspiel</td>\n",
       "    </tr>\n",
       "    <tr>\n",
       "      <th>1</th>\n",
       "      <td>6d3722db.wav</td>\n",
       "      <td>1</td>\n",
       "      <td>Gong</td>\n",
       "      <td>Gong</td>\n",
       "    </tr>\n",
       "    <tr>\n",
       "      <th>2</th>\n",
       "      <td>2500d6e9.wav</td>\n",
       "      <td>1</td>\n",
       "      <td>Telephone</td>\n",
       "      <td>Clarinet</td>\n",
       "    </tr>\n",
       "    <tr>\n",
       "      <th>3</th>\n",
       "      <td>5f20684f.wav</td>\n",
       "      <td>1</td>\n",
       "      <td>Cough</td>\n",
       "      <td>Drawer_open_or_close</td>\n",
       "    </tr>\n",
       "    <tr>\n",
       "      <th>4</th>\n",
       "      <td>b9dd574a.wav</td>\n",
       "      <td>1</td>\n",
       "      <td>Acoustic_guitar</td>\n",
       "      <td>Acoustic_guitar</td>\n",
       "    </tr>\n",
       "  </tbody>\n",
       "</table>\n",
       "</div>"
      ],
      "text/plain": [
       "          fname  manually_verified            label       predicted_label\n",
       "0  9df6bdd3.wav                  1     Glockenspiel          Glockenspiel\n",
       "1  6d3722db.wav                  1             Gong                  Gong\n",
       "2  2500d6e9.wav                  1        Telephone              Clarinet\n",
       "3  5f20684f.wav                  1            Cough  Drawer_open_or_close\n",
       "4  b9dd574a.wav                  1  Acoustic_guitar       Acoustic_guitar"
      ]
     },
     "execution_count": 162,
     "metadata": {},
     "output_type": "execute_result"
    }
   ],
   "source": [
    "df_validation.head()"
   ]
  },
  {
   "cell_type": "markdown",
   "metadata": {},
   "source": [
    "### Let's Review our F1 Score per Category"
   ]
  },
  {
   "cell_type": "code",
   "execution_count": 163,
   "metadata": {},
   "outputs": [
    {
     "name": "stdout",
     "output_type": "stream",
     "text": [
      "                       precision    recall  f1-score   support\n",
      "\n",
      "      Acoustic_guitar       0.75      0.86      0.80        21\n",
      "             Applause       0.48      0.83      0.61        12\n",
      "                 Bark       0.60      0.69      0.64        13\n",
      "            Bass_drum       0.77      0.77      0.77        13\n",
      "Burping_or_eructation       0.86      0.80      0.83        15\n",
      "                  Bus       0.50      0.50      0.50        12\n",
      "                Cello       0.73      0.76      0.75        25\n",
      "                Chime       0.62      0.38      0.48        13\n",
      "             Clarinet       0.62      0.81      0.70        26\n",
      "    Computer_keyboard       0.25      0.25      0.25        12\n",
      "                Cough       0.43      0.21      0.29        14\n",
      "              Cowbell       0.95      0.95      0.95        19\n",
      "          Double_bass       0.53      0.53      0.53        19\n",
      " Drawer_open_or_close       0.31      0.31      0.31        13\n",
      "       Electric_piano       0.53      0.53      0.53        15\n",
      "                 Fart       0.60      0.43      0.50        14\n",
      "      Finger_snapping       0.63      0.80      0.71        15\n",
      "            Fireworks       0.38      0.40      0.39        15\n",
      "                Flute       0.71      0.65      0.68        26\n",
      "         Glockenspiel       1.00      0.86      0.92        14\n",
      "                 Gong       0.67      0.59      0.62        17\n",
      "   Gunshot_or_gunfire       0.59      0.76      0.67        29\n",
      "            Harmonica       0.58      0.78      0.67        18\n",
      "               Hi-hat       0.89      0.89      0.89        18\n",
      "        Keys_jangling       0.43      0.46      0.44        13\n",
      "                Knock       0.44      0.61      0.51        18\n",
      "             Laughter       0.27      0.22      0.24        18\n",
      "                 Meow       0.38      0.36      0.37        14\n",
      "       Microwave_oven       0.75      0.23      0.35        13\n",
      "                 Oboe       0.61      0.70      0.65        20\n",
      "            Saxophone       0.77      0.67      0.72        51\n",
      "             Scissors       0.21      0.33      0.26        12\n",
      "              Shatter       0.31      0.31      0.31        13\n",
      "           Snare_drum       0.62      0.71      0.67        14\n",
      "               Squeak       0.25      0.07      0.11        14\n",
      "           Tambourine       0.83      1.00      0.90        19\n",
      "              Tearing       0.27      0.25      0.26        12\n",
      "            Telephone       0.50      0.30      0.38        23\n",
      "              Trumpet       0.76      0.76      0.76        17\n",
      "     Violin_or_fiddle       0.79      0.76      0.78        50\n",
      "              Writing       0.25      0.23      0.24        13\n",
      "\n",
      "            micro avg       0.61      0.61      0.61       742\n",
      "            macro avg       0.57      0.57      0.56       742\n",
      "         weighted avg       0.61      0.61      0.60       742\n",
      "\n"
     ]
    }
   ],
   "source": [
    "y_val = df_validation.label\n",
    "y_val_predicted = df_validation.predicted_label\n",
    "\n",
    "# Classification Report\n",
    "from sklearn.metrics import classification_report\n",
    "print(classification_report(y_val, y_val_predicted))"
   ]
  },
  {
   "cell_type": "code",
   "execution_count": null,
   "metadata": {},
   "outputs": [],
   "source": []
  }
 ],
 "metadata": {
  "kernelspec": {
   "display_name": "Python 3",
   "language": "python",
   "name": "python3"
  },
  "language_info": {
   "codemirror_mode": {
    "name": "ipython",
    "version": 3
   },
   "file_extension": ".py",
   "mimetype": "text/x-python",
   "name": "python",
   "nbconvert_exporter": "python",
   "pygments_lexer": "ipython3",
   "version": "3.6.15"
  }
 },
 "nbformat": 4,
 "nbformat_minor": 4
}
